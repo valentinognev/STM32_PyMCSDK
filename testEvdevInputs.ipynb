{
 "cells": [
  {
   "cell_type": "code",
   "execution_count": 2,
   "metadata": {},
   "outputs": [],
   "source": [
    "import evdev"
   ]
  },
  {
   "cell_type": "code",
   "execution_count": 6,
   "metadata": {},
   "outputs": [
    {
     "name": "stdout",
     "output_type": "stream",
     "text": [
      "device /dev/input/event30, name \"Nintendo Switch Pro Controller\", phys \"\"\n"
     ]
    }
   ],
   "source": [
    "device = evdev.InputDevice('/dev/input/event31')\n",
    "print(device)\n"
   ]
  },
  {
   "cell_type": "code",
   "execution_count": 7,
   "metadata": {},
   "outputs": [
    {
     "data": {
      "text/plain": [
       "{('EV_SYN', 0): [('SYN_REPORT', 0),\n",
       "  ('SYN_CONFIG', 1),\n",
       "  ('SYN_DROPPED', 3),\n",
       "  ('?', 21)],\n",
       " ('EV_KEY', 1): [(['BTN_A', 'BTN_GAMEPAD', 'BTN_SOUTH'], 304),\n",
       "  (['BTN_B', 'BTN_EAST'], 305),\n",
       "  (['BTN_NORTH', 'BTN_X'], 307),\n",
       "  (['BTN_WEST', 'BTN_Y'], 308),\n",
       "  ('BTN_Z', 309),\n",
       "  ('BTN_TL', 310),\n",
       "  ('BTN_TR', 311),\n",
       "  ('BTN_TL2', 312),\n",
       "  ('BTN_TR2', 313),\n",
       "  ('BTN_SELECT', 314),\n",
       "  ('BTN_START', 315),\n",
       "  ('BTN_MODE', 316),\n",
       "  ('BTN_THUMBL', 317),\n",
       "  ('BTN_THUMBR', 318)],\n",
       " ('EV_ABS',\n",
       "  3): [(('ABS_X', 0),\n",
       "   AbsInfo(value=0, min=-32767, max=32767, fuzz=250, flat=500, resolution=0)), (('ABS_Y',\n",
       "    1),\n",
       "   AbsInfo(value=0, min=-32767, max=32767, fuzz=250, flat=500, resolution=0)), (('ABS_RX',\n",
       "    3),\n",
       "   AbsInfo(value=-23, min=-32767, max=32767, fuzz=250, flat=500, resolution=0)), (('ABS_RY',\n",
       "    4),\n",
       "   AbsInfo(value=-16, min=-32767, max=32767, fuzz=250, flat=500, resolution=0)), (('ABS_HAT0X',\n",
       "    16),\n",
       "   AbsInfo(value=0, min=-1, max=1, fuzz=0, flat=0, resolution=0)), (('ABS_HAT0Y',\n",
       "    17),\n",
       "   AbsInfo(value=0, min=-1, max=1, fuzz=0, flat=0, resolution=0))],\n",
       " ('EV_FF', 21): [(['FF_EFFECT_MIN', 'FF_RUMBLE'], 80),\n",
       "  ('FF_PERIODIC', 81),\n",
       "  (['FF_SQUARE', 'FF_WAVEFORM_MIN'], 88),\n",
       "  ('FF_TRIANGLE', 89),\n",
       "  ('FF_SINE', 90),\n",
       "  (['FF_GAIN', 'FF_MAX_EFFECTS'], 96)]}"
      ]
     },
     "execution_count": 7,
     "metadata": {},
     "output_type": "execute_result"
    }
   ],
   "source": [
    "device.capabilities(verbose=True)\n"
   ]
  },
  {
   "cell_type": "code",
   "execution_count": 9,
   "metadata": {},
   "outputs": [
    {
     "name": "stdout",
     "output_type": "stream",
     "text": [
      "device /dev/input/event30, name \"Nintendo Switch Pro Controller\", phys \"\"\n",
      "key event at 1678123506.023227, 304 (['BTN_A', 'BTN_GAMEPAD', 'BTN_SOUTH']), down\n",
      "key event at 1678123506.119228, 304 (['BTN_A', 'BTN_GAMEPAD', 'BTN_SOUTH']), up\n",
      "key event at 1678123506.439231, 304 (['BTN_A', 'BTN_GAMEPAD', 'BTN_SOUTH']), down\n",
      "key event at 1678123506.679236, 304 (['BTN_A', 'BTN_GAMEPAD', 'BTN_SOUTH']), up\n",
      "key event at 1678123506.927189, 308 (['BTN_WEST', 'BTN_Y']), down\n",
      "key event at 1678123506.927189, 304 (['BTN_A', 'BTN_GAMEPAD', 'BTN_SOUTH']), down\n",
      "key event at 1678123506.999238, 304 (['BTN_A', 'BTN_GAMEPAD', 'BTN_SOUTH']), up\n",
      "key event at 1678123507.239214, 308 (['BTN_WEST', 'BTN_Y']), up\n",
      "key event at 1678123507.367230, 307 (['BTN_NORTH', 'BTN_X']), down\n",
      "key event at 1678123507.463220, 305 (['BTN_B', 'BTN_EAST']), down\n",
      "key event at 1678123507.583235, 307 (['BTN_NORTH', 'BTN_X']), up\n",
      "key event at 1678123507.591241, 305 (['BTN_B', 'BTN_EAST']), up\n",
      "key event at 1678123511.911273, 305 (['BTN_B', 'BTN_EAST']), down\n",
      "key event at 1678123511.919272, 307 (['BTN_NORTH', 'BTN_X']), down\n",
      "key event at 1678123511.927239, 304 (['BTN_A', 'BTN_GAMEPAD', 'BTN_SOUTH']), down\n",
      "key event at 1678123511.991273, 304 (['BTN_A', 'BTN_GAMEPAD', 'BTN_SOUTH']), up\n",
      "key event at 1678123512.183247, 307 (['BTN_NORTH', 'BTN_X']), up\n",
      "key event at 1678123512.223228, 304 (['BTN_A', 'BTN_GAMEPAD', 'BTN_SOUTH']), down\n",
      "key event at 1678123512.279266, 305 (['BTN_B', 'BTN_EAST']), up\n",
      "key event at 1678123512.319274, 308 (['BTN_WEST', 'BTN_Y']), down\n",
      "key event at 1678123512.423230, 304 (['BTN_A', 'BTN_GAMEPAD', 'BTN_SOUTH']), up\n",
      "key event at 1678123512.583276, 308 (['BTN_WEST', 'BTN_Y']), up\n"
     ]
    },
    {
     "ename": "KeyboardInterrupt",
     "evalue": "",
     "output_type": "error",
     "traceback": [
      "\u001b[0;31m---------------------------------------------------------------------------\u001b[0m",
      "\u001b[0;31mKeyboardInterrupt\u001b[0m                         Traceback (most recent call last)",
      "\u001b[1;32m/home/valentin/ESC/STM32_PyMCSDK/testEvdevInputs.ipynb Cell 4\u001b[0m in \u001b[0;36m4\n\u001b[1;32m      <a href='vscode-notebook-cell:/home/valentin/ESC/STM32_PyMCSDK/testEvdevInputs.ipynb#W3sZmlsZQ%3D%3D?line=1'>2</a>\u001b[0m dev \u001b[39m=\u001b[39m InputDevice(\u001b[39m'\u001b[39m\u001b[39m/dev/input/event30\u001b[39m\u001b[39m'\u001b[39m)\n\u001b[1;32m      <a href='vscode-notebook-cell:/home/valentin/ESC/STM32_PyMCSDK/testEvdevInputs.ipynb#W3sZmlsZQ%3D%3D?line=2'>3</a>\u001b[0m \u001b[39mprint\u001b[39m(dev)\n\u001b[0;32m----> <a href='vscode-notebook-cell:/home/valentin/ESC/STM32_PyMCSDK/testEvdevInputs.ipynb#W3sZmlsZQ%3D%3D?line=3'>4</a>\u001b[0m \u001b[39mfor\u001b[39;00m event \u001b[39min\u001b[39;00m dev\u001b[39m.\u001b[39mread_loop():\n\u001b[1;32m      <a href='vscode-notebook-cell:/home/valentin/ESC/STM32_PyMCSDK/testEvdevInputs.ipynb#W3sZmlsZQ%3D%3D?line=4'>5</a>\u001b[0m     \u001b[39mif\u001b[39;00m event\u001b[39m.\u001b[39mtype \u001b[39m==\u001b[39m ecodes\u001b[39m.\u001b[39mEV_KEY:\n\u001b[1;32m      <a href='vscode-notebook-cell:/home/valentin/ESC/STM32_PyMCSDK/testEvdevInputs.ipynb#W3sZmlsZQ%3D%3D?line=5'>6</a>\u001b[0m         \u001b[39mprint\u001b[39m(categorize(event))\n",
      "File \u001b[0;32m~/ESC/STM32_PyMCSDK/.venv/lib/python3.9/site-packages/evdev/eventio.py:45\u001b[0m, in \u001b[0;36mEventIO.read_loop\u001b[0;34m(self)\u001b[0m\n\u001b[1;32m     40\u001b[0m \u001b[39m'''\u001b[39;00m\n\u001b[1;32m     41\u001b[0m \u001b[39mEnter an endless :func:`select.select()` loop that yields input events.\u001b[39;00m\n\u001b[1;32m     42\u001b[0m \u001b[39m'''\u001b[39;00m\n\u001b[1;32m     44\u001b[0m \u001b[39mwhile\u001b[39;00m \u001b[39mTrue\u001b[39;00m:\n\u001b[0;32m---> 45\u001b[0m     r, w, x \u001b[39m=\u001b[39m select\u001b[39m.\u001b[39;49mselect([\u001b[39mself\u001b[39;49m\u001b[39m.\u001b[39;49mfd], [], [])\n\u001b[1;32m     46\u001b[0m     \u001b[39mfor\u001b[39;00m event \u001b[39min\u001b[39;00m \u001b[39mself\u001b[39m\u001b[39m.\u001b[39mread():\n\u001b[1;32m     47\u001b[0m         \u001b[39myield\u001b[39;00m event\n",
      "\u001b[0;31mKeyboardInterrupt\u001b[0m: "
     ]
    }
   ],
   "source": [
    "from evdev import InputDevice, categorize, ecodes\n",
    "dev = InputDevice('/dev/input/event30')\n",
    "print(dev)\n",
    "for event in dev.read_loop():\n",
    "    if event.type == ecodes.EV_KEY:\n",
    "        print(categorize(event))\n",
    "        # pressing 'a' and holding 'space'\n"
   ]
  },
  {
   "cell_type": "code",
   "execution_count": 65,
   "metadata": {},
   "outputs": [
    {
     "data": {
      "text/plain": [
       "[]"
      ]
     },
     "execution_count": 65,
     "metadata": {},
     "output_type": "execute_result"
    }
   ],
   "source": [
    "dev.active_keys(verbose=True)\n"
   ]
  },
  {
   "cell_type": "code",
   "execution_count": 10,
   "metadata": {},
   "outputs": [
    {
     "ename": "KeyError",
     "evalue": "'ABS_RY'",
     "output_type": "error",
     "traceback": [
      "\u001b[0;31m---------------------------------------------------------------------------\u001b[0m",
      "\u001b[0;31mKeyError\u001b[0m                                  Traceback (most recent call last)",
      "\u001b[1;32m/home/valentin/ESC/STM32_PyMCSDK/testEvdevInputs.ipynb Cell 6\u001b[0m in \u001b[0;36m2\n\u001b[1;32m     <a href='vscode-notebook-cell:/home/valentin/ESC/STM32_PyMCSDK/testEvdevInputs.ipynb#W5sZmlsZQ%3D%3D?line=19'>20</a>\u001b[0m \u001b[39mif\u001b[39;00m ecodes\u001b[39m.\u001b[39mbytype[absevent\u001b[39m.\u001b[39mevent\u001b[39m.\u001b[39mtype][absevent\u001b[39m.\u001b[39mevent\u001b[39m.\u001b[39mcode] \u001b[39m==\u001b[39m \u001b[39m'\u001b[39m\u001b[39mABS_RY\u001b[39m\u001b[39m'\u001b[39m: \n\u001b[1;32m     <a href='vscode-notebook-cell:/home/valentin/ESC/STM32_PyMCSDK/testEvdevInputs.ipynb#W5sZmlsZQ%3D%3D?line=20'>21</a>\u001b[0m     last[\u001b[39m\"\u001b[39m\u001b[39mABS_RY\u001b[39m\u001b[39m\"\u001b[39m] \u001b[39m=\u001b[39m absevent\u001b[39m.\u001b[39mevent\u001b[39m.\u001b[39mvalue\n\u001b[0;32m---> <a href='vscode-notebook-cell:/home/valentin/ESC/STM32_PyMCSDK/testEvdevInputs.ipynb#W5sZmlsZQ%3D%3D?line=22'>23</a>\u001b[0m \u001b[39mif\u001b[39;00m last[\u001b[39m\"\u001b[39;49m\u001b[39mABS_RY\u001b[39;49m\u001b[39m\"\u001b[39;49m] \u001b[39m>\u001b[39m \u001b[39m128\u001b[39m:\n\u001b[1;32m     <a href='vscode-notebook-cell:/home/valentin/ESC/STM32_PyMCSDK/testEvdevInputs.ipynb#W5sZmlsZQ%3D%3D?line=23'>24</a>\u001b[0m     \u001b[39mprint\u001b[39m(\u001b[39m'\u001b[39m\u001b[39mreverse\u001b[39m\u001b[39m'\u001b[39m)\n\u001b[1;32m     <a href='vscode-notebook-cell:/home/valentin/ESC/STM32_PyMCSDK/testEvdevInputs.ipynb#W5sZmlsZQ%3D%3D?line=24'>25</a>\u001b[0m     \u001b[39mprint\u001b[39m(last[\u001b[39m\"\u001b[39m\u001b[39mABS_RY\u001b[39m\u001b[39m\"\u001b[39m])\n",
      "\u001b[0;31mKeyError\u001b[0m: 'ABS_RY'"
     ]
    }
   ],
   "source": [
    "from evdev import InputDevice, categorize, ecodes, KeyEvent\n",
    "\n",
    "gamepad = InputDevice('/dev/input/event30')\n",
    "last = {\n",
    "        \"ABS_RZ\": 128,\n",
    "        \"ABS_Z\": 128\n",
    "    }\n",
    "for event in gamepad.read_loop():\n",
    "    if event.type == ecodes.EV_ABS:\n",
    "        absevent = categorize(event)\n",
    "        if ecodes.bytype[absevent.event.type][absevent.event.code] == 'ABS_X':\n",
    "            last[\"ABS_X\"] = absevent.event.value\n",
    "\n",
    "        if ecodes.bytype[absevent.event.type][absevent.event.code] == 'ABS_Y':\n",
    "            last[\"ABS_Y\"] = absevent.event.value\n",
    "\n",
    "        if ecodes.bytype[absevent.event.type][absevent.event.code] == 'ABS_RX':\n",
    "            last[\"ABS_RX\"] = absevent.event.value\n",
    "\n",
    "        if ecodes.bytype[absevent.event.type][absevent.event.code] == 'ABS_RY': \n",
    "            last[\"ABS_RY\"] = absevent.event.value\n",
    "\n",
    "        if last[\"ABS_RY\"] > 128:\n",
    "            print('reverse')\n",
    "            print(last[\"ABS_RY\"])\n",
    "        elif last[\"ABS_RY\"] < 127:\n",
    "            print('forward')\n",
    "            print(last[\"ABS_RY\"])\n",
    "\n",
    "        if last[\"ABS_RX\"] > 128:\n",
    "            print('right')\n",
    "            print(last[\"ABS_RX\"])\n",
    "        elif last[\"ABS_RX\"] < 127:\n",
    "            print('left')\n",
    "            print(last[\"ABS_RX\"])\n",
    "\n"
   ]
  }
 ],
 "metadata": {
  "kernelspec": {
   "display_name": "Python 3.9.15 ('.venv': venv)",
   "language": "python",
   "name": "python3"
  },
  "language_info": {
   "codemirror_mode": {
    "name": "ipython",
    "version": 3
   },
   "file_extension": ".py",
   "mimetype": "text/x-python",
   "name": "python",
   "nbconvert_exporter": "python",
   "pygments_lexer": "ipython3",
   "version": "3.9.15"
  },
  "orig_nbformat": 4,
  "vscode": {
   "interpreter": {
    "hash": "e1a7d12d0a6e1bc7910e4e722b15c233593261bc74c39083ce7b6efaa6d498d6"
   }
  }
 },
 "nbformat": 4,
 "nbformat_minor": 2
}
