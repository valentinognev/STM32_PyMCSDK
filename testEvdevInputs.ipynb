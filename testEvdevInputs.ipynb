{
 "cells": [
  {
   "cell_type": "code",
   "execution_count": 1,
   "metadata": {},
   "outputs": [],
   "source": [
    "import evdev"
   ]
  },
  {
   "cell_type": "code",
   "execution_count": 4,
   "metadata": {},
   "outputs": [
    {
     "name": "stdout",
     "output_type": "stream",
     "text": [
      "device /dev/input/event257, name \"Nintendo Switch Pro Controller\", phys \"\"\n"
     ]
    }
   ],
   "source": [
    "device = evdev.InputDevice('/dev/input/event257')\n",
    "print(device)\n"
   ]
  },
  {
   "cell_type": "code",
   "execution_count": 81,
   "metadata": {},
   "outputs": [
    {
     "data": {
      "text/plain": [
       "{('EV_SYN', 0): [('SYN_REPORT', 0),\n",
       "  ('SYN_CONFIG', 1),\n",
       "  ('SYN_MT_REPORT', 2),\n",
       "  ('SYN_DROPPED', 3),\n",
       "  ('?', 4)],\n",
       " ('EV_KEY', 1): [('KEY_ESC', 1),\n",
       "  ('KEY_ENTER', 28),\n",
       "  ('KEY_KPMINUS', 74),\n",
       "  ('KEY_KPPLUS', 78),\n",
       "  ('KEY_UP', 103),\n",
       "  ('KEY_LEFT', 105),\n",
       "  ('KEY_RIGHT', 106),\n",
       "  ('KEY_DOWN', 108),\n",
       "  ('KEY_INSERT', 110),\n",
       "  ('KEY_DELETE', 111),\n",
       "  (['KEY_MIN_INTERESTING', 'KEY_MUTE'], 113),\n",
       "  ('KEY_VOLUMEDOWN', 114),\n",
       "  ('KEY_VOLUMEUP', 115),\n",
       "  ('KEY_POWER', 116),\n",
       "  ('KEY_PAUSE', 119),\n",
       "  ('KEY_STOP', 128),\n",
       "  ('KEY_PROPS', 130),\n",
       "  ('KEY_UNDO', 131),\n",
       "  ('KEY_COPY', 133),\n",
       "  ('KEY_OPEN', 134),\n",
       "  ('KEY_PASTE', 135),\n",
       "  ('KEY_FIND', 136),\n",
       "  ('KEY_CUT', 137),\n",
       "  ('KEY_HELP', 138),\n",
       "  ('KEY_MENU', 139),\n",
       "  ('KEY_CALC', 140),\n",
       "  ('KEY_SLEEP', 142),\n",
       "  ('KEY_FILE', 144),\n",
       "  ('KEY_WWW', 150),\n",
       "  (['KEY_COFFEE', 'KEY_SCREENLOCK'], 152),\n",
       "  ('KEY_MAIL', 155),\n",
       "  ('KEY_BOOKMARKS', 156),\n",
       "  ('KEY_BACK', 158),\n",
       "  ('KEY_FORWARD', 159),\n",
       "  ('KEY_EJECTCD', 161),\n",
       "  ('KEY_NEXTSONG', 163),\n",
       "  ('KEY_PLAYPAUSE', 164),\n",
       "  ('KEY_PREVIOUSSONG', 165),\n",
       "  ('KEY_STOPCD', 166),\n",
       "  ('KEY_RECORD', 167),\n",
       "  ('KEY_REWIND', 168),\n",
       "  ('KEY_PHONE', 169),\n",
       "  ('KEY_CONFIG', 171),\n",
       "  ('KEY_HOMEPAGE', 172),\n",
       "  ('KEY_REFRESH', 173),\n",
       "  ('KEY_EXIT', 174),\n",
       "  ('KEY_EDIT', 176),\n",
       "  ('KEY_SCROLLUP', 177),\n",
       "  ('KEY_SCROLLDOWN', 178),\n",
       "  ('KEY_NEW', 181),\n",
       "  ('KEY_REDO', 182),\n",
       "  ('KEY_CLOSE', 206),\n",
       "  ('KEY_PLAY', 207),\n",
       "  ('KEY_FASTFORWARD', 208),\n",
       "  ('KEY_BASSBOOST', 209),\n",
       "  ('KEY_PRINT', 210),\n",
       "  ('KEY_CAMERA', 212),\n",
       "  ('KEY_CHAT', 216),\n",
       "  ('KEY_SEARCH', 217),\n",
       "  ('KEY_FINANCE', 219),\n",
       "  ('KEY_CANCEL', 223),\n",
       "  ('KEY_BRIGHTNESSDOWN', 224),\n",
       "  ('KEY_BRIGHTNESSUP', 225),\n",
       "  ('KEY_KBDILLUMTOGGLE', 228),\n",
       "  ('KEY_KBDILLUMDOWN', 229),\n",
       "  ('KEY_KBDILLUMUP', 230),\n",
       "  ('KEY_SEND', 231),\n",
       "  ('KEY_REPLY', 232),\n",
       "  ('KEY_FORWARDMAIL', 233),\n",
       "  ('KEY_SAVE', 234),\n",
       "  ('KEY_DOCUMENTS', 235),\n",
       "  ('KEY_UNKNOWN', 240),\n",
       "  ('KEY_VIDEO_NEXT', 241),\n",
       "  (['KEY_BRIGHTNESS_AUTO', 'KEY_BRIGHTNESS_ZERO'], 244),\n",
       "  (['BTN_0', 'BTN_MISC'], 256),\n",
       "  ('KEY_SELECT', 353),\n",
       "  ('KEY_GOTO', 354),\n",
       "  ('KEY_INFO', 358),\n",
       "  ('KEY_PROGRAM', 362),\n",
       "  ('KEY_PVR', 366),\n",
       "  ('KEY_SUBTITLE', 370),\n",
       "  (['KEY_FULL_SCREEN', 'KEY_ZOOM'], 372),\n",
       "  ('KEY_KEYBOARD', 374),\n",
       "  (['KEY_ASPECT_RATIO', 'KEY_SCREEN'], 375),\n",
       "  ('KEY_PC', 376),\n",
       "  ('KEY_TV', 377),\n",
       "  ('KEY_TV2', 378),\n",
       "  ('KEY_VCR', 379),\n",
       "  ('KEY_VCR2', 380),\n",
       "  ('KEY_SAT', 381),\n",
       "  ('KEY_CD', 383),\n",
       "  ('KEY_TAPE', 384),\n",
       "  ('KEY_TUNER', 386),\n",
       "  ('KEY_PLAYER', 387),\n",
       "  ('KEY_DVD', 389),\n",
       "  ('KEY_AUDIO', 392),\n",
       "  ('KEY_VIDEO', 393),\n",
       "  ('KEY_MEMO', 396),\n",
       "  ('KEY_CALENDAR', 397),\n",
       "  ('KEY_RED', 398),\n",
       "  ('KEY_GREEN', 399),\n",
       "  ('KEY_YELLOW', 400),\n",
       "  ('KEY_BLUE', 401),\n",
       "  ('KEY_CHANNELUP', 402),\n",
       "  ('KEY_CHANNELDOWN', 403),\n",
       "  ('KEY_LAST', 405),\n",
       "  ('KEY_NEXT', 407),\n",
       "  ('KEY_RESTART', 408),\n",
       "  ('KEY_SLOW', 409),\n",
       "  ('KEY_SHUFFLE', 410),\n",
       "  ('KEY_PREVIOUS', 412),\n",
       "  ('KEY_VIDEOPHONE', 416),\n",
       "  ('KEY_GAMES', 417),\n",
       "  ('KEY_ZOOMIN', 418),\n",
       "  ('KEY_ZOOMOUT', 419),\n",
       "  ('KEY_ZOOMRESET', 420),\n",
       "  ('KEY_WORDPROCESSOR', 421),\n",
       "  ('KEY_EDITOR', 422),\n",
       "  ('KEY_SPREADSHEET', 423),\n",
       "  ('KEY_GRAPHICSEDITOR', 424),\n",
       "  ('KEY_PRESENTATION', 425),\n",
       "  ('KEY_DATABASE', 426),\n",
       "  ('KEY_NEWS', 427),\n",
       "  ('KEY_VOICEMAIL', 428),\n",
       "  ('KEY_ADDRESSBOOK', 429),\n",
       "  ('KEY_MESSENGER', 430),\n",
       "  (['KEY_BRIGHTNESS_TOGGLE', 'KEY_DISPLAYTOGGLE'], 431),\n",
       "  ('KEY_SPELLCHECK', 432),\n",
       "  ('KEY_LOGOFF', 433),\n",
       "  ('KEY_MEDIA_REPEAT', 439),\n",
       "  ('KEY_IMAGES', 442),\n",
       "  ('KEY_BUTTONCONFIG', 576),\n",
       "  ('KEY_TASKMANAGER', 577),\n",
       "  ('KEY_JOURNAL', 578),\n",
       "  ('KEY_CONTROLPANEL', 579),\n",
       "  ('KEY_APPSELECT', 580),\n",
       "  ('KEY_SCREENSAVER', 581),\n",
       "  ('KEY_VOICECOMMAND', 582),\n",
       "  ('KEY_ASSISTANT', 583),\n",
       "  ('KEY_EMOJI_PICKER', 585),\n",
       "  ('KEY_DICTATE', 586),\n",
       "  ('KEY_BRIGHTNESS_MIN', 592),\n",
       "  ('KEY_BRIGHTNESS_MAX', 593)],\n",
       " ('EV_REL', 2): [('REL_HWHEEL', 6), ('REL_HWHEEL_HI_RES', 12)],\n",
       " ('EV_ABS',\n",
       "  3): [(('ABS_VOLUME', 32),\n",
       "   AbsInfo(value=0, min=1, max=668, fuzz=0, flat=0, resolution=0))],\n",
       " ('EV_MSC', 4): [('MSC_SCAN', 4)]}"
      ]
     },
     "execution_count": 81,
     "metadata": {},
     "output_type": "execute_result"
    }
   ],
   "source": [
    "device.capabilities(verbose=True)\n"
   ]
  },
  {
   "cell_type": "code",
   "execution_count": 61,
   "metadata": {},
   "outputs": [
    {
     "name": "stdout",
     "output_type": "stream",
     "text": [
      "device /dev/input/event258, name \"Nintendo Switch Pro Controller IMU\", phys \"\"\n"
     ]
    },
    {
     "ename": "KeyboardInterrupt",
     "evalue": "",
     "output_type": "error",
     "traceback": [
      "\u001b[0;31m---------------------------------------------------------------------------\u001b[0m",
      "\u001b[0;31mKeyboardInterrupt\u001b[0m                         Traceback (most recent call last)",
      "Cell \u001b[0;32mIn [61], line 4\u001b[0m\n\u001b[1;32m      2\u001b[0m dev \u001b[39m=\u001b[39m InputDevice(\u001b[39m'\u001b[39m\u001b[39m/dev/input/event258\u001b[39m\u001b[39m'\u001b[39m)\n\u001b[1;32m      3\u001b[0m \u001b[39mprint\u001b[39m(dev)\n\u001b[0;32m----> 4\u001b[0m \u001b[39mfor\u001b[39;00m event \u001b[39min\u001b[39;00m dev\u001b[39m.\u001b[39mread_loop():\n\u001b[1;32m      5\u001b[0m     \u001b[39mif\u001b[39;00m event\u001b[39m.\u001b[39mtype \u001b[39m==\u001b[39m ecodes\u001b[39m.\u001b[39mEV_KEY:\n\u001b[1;32m      6\u001b[0m         \u001b[39mprint\u001b[39m(categorize(event))\n",
      "File \u001b[0;32m~/ESC/STM32_PyMCSDK/.venv/lib/python3.9/site-packages/evdev/eventio.py:45\u001b[0m, in \u001b[0;36mEventIO.read_loop\u001b[0;34m(self)\u001b[0m\n\u001b[1;32m     40\u001b[0m \u001b[39m'''\u001b[39;00m\n\u001b[1;32m     41\u001b[0m \u001b[39mEnter an endless :func:`select.select()` loop that yields input events.\u001b[39;00m\n\u001b[1;32m     42\u001b[0m \u001b[39m'''\u001b[39;00m\n\u001b[1;32m     44\u001b[0m \u001b[39mwhile\u001b[39;00m \u001b[39mTrue\u001b[39;00m:\n\u001b[0;32m---> 45\u001b[0m     r, w, x \u001b[39m=\u001b[39m select\u001b[39m.\u001b[39;49mselect([\u001b[39mself\u001b[39;49m\u001b[39m.\u001b[39;49mfd], [], [])\n\u001b[1;32m     46\u001b[0m     \u001b[39mfor\u001b[39;00m event \u001b[39min\u001b[39;00m \u001b[39mself\u001b[39m\u001b[39m.\u001b[39mread():\n\u001b[1;32m     47\u001b[0m         \u001b[39myield\u001b[39;00m event\n",
      "\u001b[0;31mKeyboardInterrupt\u001b[0m: "
     ]
    }
   ],
   "source": [
    "from evdev import InputDevice, categorize, ecodes\n",
    "dev = InputDevice('/dev/input/event257')\n",
    "print(dev)\n",
    "for event in dev.read_loop():\n",
    "    if event.type == ecodes.EV_KEY:\n",
    "        print(categorize(event))\n",
    "        # pressing 'a' and holding 'space'\n"
   ]
  },
  {
   "cell_type": "code",
   "execution_count": 65,
   "metadata": {},
   "outputs": [
    {
     "data": {
      "text/plain": [
       "[]"
      ]
     },
     "execution_count": 65,
     "metadata": {},
     "output_type": "execute_result"
    }
   ],
   "source": [
    "dev.active_keys(verbose=True)\n"
   ]
  },
  {
   "cell_type": "code",
   "execution_count": 32,
   "metadata": {},
   "outputs": [
    {
     "ename": "KeyboardInterrupt",
     "evalue": "",
     "output_type": "error",
     "traceback": [
      "\u001b[0;31m---------------------------------------------------------------------------\u001b[0m",
      "\u001b[0;31mKeyboardInterrupt\u001b[0m                         Traceback (most recent call last)",
      "Cell \u001b[0;32mIn [32], line 8\u001b[0m\n\u001b[1;32m      3\u001b[0m gamepad \u001b[39m=\u001b[39m InputDevice(\u001b[39m'\u001b[39m\u001b[39m/dev/input/event257\u001b[39m\u001b[39m'\u001b[39m)\n\u001b[1;32m      4\u001b[0m last \u001b[39m=\u001b[39m {\n\u001b[1;32m      5\u001b[0m         \u001b[39m\"\u001b[39m\u001b[39mABS_RZ\u001b[39m\u001b[39m\"\u001b[39m: \u001b[39m128\u001b[39m,\n\u001b[1;32m      6\u001b[0m         \u001b[39m\"\u001b[39m\u001b[39mABS_Z\u001b[39m\u001b[39m\"\u001b[39m: \u001b[39m128\u001b[39m\n\u001b[1;32m      7\u001b[0m     }\n\u001b[0;32m----> 8\u001b[0m \u001b[39mfor\u001b[39;00m event \u001b[39min\u001b[39;00m gamepad\u001b[39m.\u001b[39mread_loop():\n\u001b[1;32m      9\u001b[0m     \u001b[39mif\u001b[39;00m event\u001b[39m.\u001b[39mtype \u001b[39m==\u001b[39m ecodes\u001b[39m.\u001b[39mEV_ABS:\n\u001b[1;32m     10\u001b[0m         absevent \u001b[39m=\u001b[39m categorize(event)\n",
      "File \u001b[0;32m~/ESC/STM32_PyMCSDK/.venv/lib/python3.9/site-packages/evdev/eventio.py:45\u001b[0m, in \u001b[0;36mEventIO.read_loop\u001b[0;34m(self)\u001b[0m\n\u001b[1;32m     40\u001b[0m \u001b[39m'''\u001b[39;00m\n\u001b[1;32m     41\u001b[0m \u001b[39mEnter an endless :func:`select.select()` loop that yields input events.\u001b[39;00m\n\u001b[1;32m     42\u001b[0m \u001b[39m'''\u001b[39;00m\n\u001b[1;32m     44\u001b[0m \u001b[39mwhile\u001b[39;00m \u001b[39mTrue\u001b[39;00m:\n\u001b[0;32m---> 45\u001b[0m     r, w, x \u001b[39m=\u001b[39m select\u001b[39m.\u001b[39;49mselect([\u001b[39mself\u001b[39;49m\u001b[39m.\u001b[39;49mfd], [], [])\n\u001b[1;32m     46\u001b[0m     \u001b[39mfor\u001b[39;00m event \u001b[39min\u001b[39;00m \u001b[39mself\u001b[39m\u001b[39m.\u001b[39mread():\n\u001b[1;32m     47\u001b[0m         \u001b[39myield\u001b[39;00m event\n",
      "\u001b[0;31mKeyboardInterrupt\u001b[0m: "
     ]
    }
   ],
   "source": [
    "from evdev import InputDevice, categorize, ecodes, KeyEvent\n",
    "\n",
    "gamepad = InputDevice('/dev/input/event257')\n",
    "last = {\n",
    "        \"ABS_RZ\": 128,\n",
    "        \"ABS_Z\": 128\n",
    "    }\n",
    "for event in gamepad.read_loop():\n",
    "    if event.type == ecodes.EV_ABS:\n",
    "        absevent = categorize(event)\n",
    "        if ecodes.bytype[absevent.event.type][absevent.event.code] == 'ABS_X':\n",
    "            last[\"ABS_X\"] = absevent.event.value\n",
    "\n",
    "        if ecodes.bytype[absevent.event.type][absevent.event.code] == 'ABS_Y':\n",
    "            last[\"ABS_Y\"] = absevent.event.value\n",
    "\n",
    "        if ecodes.bytype[absevent.event.type][absevent.event.code] == 'ABS_RX':\n",
    "            last[\"ABS_RX\"] = absevent.event.value\n",
    "\n",
    "        if ecodes.bytype[absevent.event.type][absevent.event.code] == 'ABS_RY': \n",
    "            last[\"ABS_RY\"] = absevent.event.value\n",
    "\n",
    "        if last[\"ABS_RY\"] > 128:\n",
    "            print('reverse')\n",
    "            print(last[\"ABS_RY\"])\n",
    "        elif last[\"ABS_RY\"] < 127:\n",
    "            print('forward')\n",
    "            print(last[\"ABS_RY\"])\n",
    "\n",
    "        if last[\"ABS_RX\"] > 128:\n",
    "            print('right')\n",
    "            print(last[\"ABS_RX\"])\n",
    "        elif last[\"ABS_RX\"] < 127:\n",
    "            print('left')\n",
    "            print(last[\"ABS_RX\"])\n",
    "\n"
   ]
  }
 ],
 "metadata": {
  "kernelspec": {
   "display_name": "Python 3.9.15 ('.venv': venv)",
   "language": "python",
   "name": "python3"
  },
  "language_info": {
   "codemirror_mode": {
    "name": "ipython",
    "version": 3
   },
   "file_extension": ".py",
   "mimetype": "text/x-python",
   "name": "python",
   "nbconvert_exporter": "python",
   "pygments_lexer": "ipython3",
   "version": "3.9.15"
  },
  "orig_nbformat": 4,
  "vscode": {
   "interpreter": {
    "hash": "e1a7d12d0a6e1bc7910e4e722b15c233593261bc74c39083ce7b6efaa6d498d6"
   }
  }
 },
 "nbformat": 4,
 "nbformat_minor": 2
}
